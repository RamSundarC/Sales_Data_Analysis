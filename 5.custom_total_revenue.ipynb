{
 "cells": [
  {
   "cell_type": "code",
   "execution_count": 3,
   "metadata": {},
   "outputs": [
    {
     "name": "stdout",
     "output_type": "stream",
     "text": [
      "  Branch  Total_Revenue  Total_quantity\n",
      "0      A     39593.0640             701\n",
      "1      B     37176.0585             600\n",
      "2      C     41967.2820             704\n"
     ]
    }
   ],
   "source": [
    "import datetime\n",
    "import pandas as pd\n",
    "\n",
    "asp=pd.read_csv(\"/home/ram_swe/Desktop/FFF/sales_data.csv\",parse_dates=[\"Date\"])\n",
    "\n",
    "\"\"\"from_d=input(\"Enter From_date in YYYY-MM-DD: \")\n",
    "to_d=input(\"Enter To_date in YYYY-MM-DD: \")\n",
    "\n",
    "fd1=datetime.datetime.strptime(from_d,\"%Y-%m-%d\")\n",
    "td1=datetime.datetime.strptime(to_d,\"%Y-%m-%d\")  \"\"\"          # input bringer_date\n",
    "\n",
    "fd1=datetime.datetime.strptime(\"2019-01-01\",\"%Y-%m-%d\")      # manual bringer_date\n",
    "td1=datetime.datetime.strptime(\"2019-02-01\",\"%Y-%m-%d\")\n",
    "\n",
    "filter=(asp['Date']>=fd1)&(asp['Date']<=td1)\n",
    "\n",
    "new_asp=asp.loc[filter]\n",
    "\n",
    "if new_asp.empty:\n",
    "    res=(\"There is no transactions between the date provided\")\n",
    "\n",
    "else:\n",
    "    particular_A=new_asp.loc[new_asp['Branch']=='A']\n",
    "    particular_B=new_asp.loc[new_asp['Branch']=='B']\n",
    "    particular_C=new_asp.loc[new_asp['Branch']=='C']\n",
    "\n",
    "    particular_dic_branchwise=pd.DataFrame({'Branch':[\"A\",\"B\",\"C\"],\n",
    "                    \"Total_Revenue\":[(particular_A['Total'].sum()),( particular_B['Total'].sum()),( particular_C['Total'].sum())],\n",
    "                    \"Total_quantity\":[( particular_A['Quantity'].sum()),( particular_B['Quantity'].sum()),( particular_C['Quantity'].sum())],\n",
    "                    })\n",
    "\n",
    "\n",
    "    res=particular_dic_branchwise\n",
    "    \n",
    "print(res)"
   ]
  },
  {
   "cell_type": "code",
   "execution_count": null,
   "metadata": {},
   "outputs": [],
   "source": [
    "import numpy as np\n",
    "import matplotlib.pyplot as plt\n",
    "x=np.array(res['Branch'])\n",
    "y=np.array(res['Total_Revenue'])\n",
    "\n",
    "plt.bar(x,y,color=['red','orange','green'])\n",
    "plt.grid(axis='y',linewidth=3)\n",
    "plt.xlabel(\"Branch\")\n",
    "plt.ylabel(\"Revenue\")\n",
    "plt.title(\"Branch and Revenue\")\n",
    "plt.legend()\n",
    "plt.show()\n"
   ]
  }
 ],
 "metadata": {
  "kernelspec": {
   "display_name": "Python 3",
   "language": "python",
   "name": "python3"
  },
  "language_info": {
   "codemirror_mode": {
    "name": "ipython",
    "version": 3
   },
   "file_extension": ".py",
   "mimetype": "text/x-python",
   "name": "python",
   "nbconvert_exporter": "python",
   "pygments_lexer": "ipython3",
   "version": "3.10.6"
  },
  "orig_nbformat": 4
 },
 "nbformat": 4,
 "nbformat_minor": 2
}
